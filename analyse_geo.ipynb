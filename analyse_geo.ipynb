{
 "cells": [
  {
   "cell_type": "code",
   "execution_count": 35,
   "metadata": {},
   "outputs": [],
   "source": [
    "import numpy as np \n",
    "import pandas as pd \n",
    "import matplotlib.pyplot as plt \n",
    "import seaborn as sns\n",
    "import plotly.graph_objects as go\n",
    "import plotly.express as px\n"
   ]
  },
  {
   "cell_type": "code",
   "execution_count": 36,
   "metadata": {},
   "outputs": [],
   "source": [
    "data=pd.read_csv('airports.csv')\n",
    "countries=pd.read_csv('countries.csv')\n",
    "data['iso_country']=data['iso_country'].fillna('NAM') \n",
    "countries['code']=countries['code'].fillna('NAM')\n",
    "number_per_country=data['iso_country'].value_counts()\n",
    "# drop a country from the dataframe\n",
    "countries=countries[countries['code']!='PN']\n",
    "countries=countries[countries['code']!='TK']\n",
    "#countries=countries[countries['code']!='US']"
   ]
  },
  {
   "cell_type": "code",
   "execution_count": 37,
   "metadata": {},
   "outputs": [
    {
     "data": {
      "text/plain": [
       "' countries=pd.read_csv(\\'countries.csv\\')\\n\\nfor i in range(len(data)):\\n    code=data.loc[i,\\'iso_country\\']\\n    nom=countries[countries[\"code\"]==code][\"name\"].values[0]\\n    data.loc[i,\\'iso_country\\']=nom\\n    \\n#save the dataframe\\ndata.to_csv(\\'airports_with_country_names.csv\\',index=False) '"
      ]
     },
     "execution_count": 37,
     "metadata": {},
     "output_type": "execute_result"
    }
   ],
   "source": [
    "\"\"\" countries=pd.read_csv('countries.csv')\n",
    "\n",
    "for i in range(len(data)):\n",
    "    code=data.loc[i,'iso_country']\n",
    "    nom=countries[countries[\"code\"]==code][\"name\"].values[0]\n",
    "    data.loc[i,'iso_country']=nom\n",
    "    \n",
    "#save the dataframe\n",
    "data.to_csv('airports_with_country_names.csv',index=False) \"\"\""
   ]
  },
  {
   "cell_type": "code",
   "execution_count": 38,
   "metadata": {},
   "outputs": [
    {
     "data": {
      "text/html": [
       "<div>\n",
       "<style scoped>\n",
       "    .dataframe tbody tr th:only-of-type {\n",
       "        vertical-align: middle;\n",
       "    }\n",
       "\n",
       "    .dataframe tbody tr th {\n",
       "        vertical-align: top;\n",
       "    }\n",
       "\n",
       "    .dataframe thead th {\n",
       "        text-align: right;\n",
       "    }\n",
       "</style>\n",
       "<table border=\"1\" class=\"dataframe\">\n",
       "  <thead>\n",
       "    <tr style=\"text-align: right;\">\n",
       "      <th></th>\n",
       "      <th>id</th>\n",
       "      <th>code</th>\n",
       "      <th>name</th>\n",
       "      <th>continent</th>\n",
       "      <th>wikipedia_link</th>\n",
       "      <th>keywords</th>\n",
       "      <th>number_of_airports</th>\n",
       "    </tr>\n",
       "  </thead>\n",
       "  <tbody>\n",
       "    <tr>\n",
       "      <th>0</th>\n",
       "      <td>302672</td>\n",
       "      <td>AD</td>\n",
       "      <td>Andorra</td>\n",
       "      <td>EU</td>\n",
       "      <td>https://en.wikipedia.org/wiki/Andorra</td>\n",
       "      <td>NaN</td>\n",
       "      <td>3.0</td>\n",
       "    </tr>\n",
       "    <tr>\n",
       "      <th>1</th>\n",
       "      <td>302618</td>\n",
       "      <td>AE</td>\n",
       "      <td>United Arab Emirates</td>\n",
       "      <td>AS</td>\n",
       "      <td>https://en.wikipedia.org/wiki/United_Arab_Emir...</td>\n",
       "      <td>UAE,مطارات في الإمارات العربية المتحدة</td>\n",
       "      <td>116.0</td>\n",
       "    </tr>\n",
       "    <tr>\n",
       "      <th>2</th>\n",
       "      <td>302619</td>\n",
       "      <td>AF</td>\n",
       "      <td>Afghanistan</td>\n",
       "      <td>AS</td>\n",
       "      <td>https://en.wikipedia.org/wiki/Afghanistan</td>\n",
       "      <td>NaN</td>\n",
       "      <td>74.0</td>\n",
       "    </tr>\n",
       "    <tr>\n",
       "      <th>3</th>\n",
       "      <td>302722</td>\n",
       "      <td>AG</td>\n",
       "      <td>Antigua and Barbuda</td>\n",
       "      <td>NaN</td>\n",
       "      <td>https://en.wikipedia.org/wiki/Antigua_and_Barbuda</td>\n",
       "      <td>NaN</td>\n",
       "      <td>4.0</td>\n",
       "    </tr>\n",
       "    <tr>\n",
       "      <th>4</th>\n",
       "      <td>302723</td>\n",
       "      <td>AI</td>\n",
       "      <td>Anguilla</td>\n",
       "      <td>NaN</td>\n",
       "      <td>https://en.wikipedia.org/wiki/Anguilla</td>\n",
       "      <td>NaN</td>\n",
       "      <td>2.0</td>\n",
       "    </tr>\n",
       "  </tbody>\n",
       "</table>\n",
       "</div>"
      ],
      "text/plain": [
       "       id code                  name continent  \\\n",
       "0  302672   AD               Andorra        EU   \n",
       "1  302618   AE  United Arab Emirates        AS   \n",
       "2  302619   AF           Afghanistan        AS   \n",
       "3  302722   AG   Antigua and Barbuda       NaN   \n",
       "4  302723   AI              Anguilla       NaN   \n",
       "\n",
       "                                      wikipedia_link  \\\n",
       "0              https://en.wikipedia.org/wiki/Andorra   \n",
       "1  https://en.wikipedia.org/wiki/United_Arab_Emir...   \n",
       "2          https://en.wikipedia.org/wiki/Afghanistan   \n",
       "3  https://en.wikipedia.org/wiki/Antigua_and_Barbuda   \n",
       "4             https://en.wikipedia.org/wiki/Anguilla   \n",
       "\n",
       "                                 keywords  number_of_airports  \n",
       "0                                     NaN                 3.0  \n",
       "1  UAE,مطارات في الإمارات العربية المتحدة               116.0  \n",
       "2                                     NaN                74.0  \n",
       "3                                     NaN                 4.0  \n",
       "4                                     NaN                 2.0  "
      ]
     },
     "execution_count": 38,
     "metadata": {},
     "output_type": "execute_result"
    }
   ],
   "source": [
    "for i in countries.index:\n",
    "    #add a new column with the number of airports per country\n",
    "    code=countries.loc[i,'code']\n",
    "    number=number_per_country[code]\n",
    "    countries.loc[i,'number_of_airports']=number\n",
    "countries.head()    "
   ]
  },
  {
   "cell_type": "code",
   "execution_count": 40,
   "metadata": {},
   "outputs": [
    {
     "data": {
      "application/vnd.plotly.v1+json": {
       "config": {
        "plotlyServerURL": "https://plot.ly"
       },
       "data": [
        {
         "coloraxis": "coloraxis",
         "geo": "geo",
         "hovertemplate": "<b>%{hovertext}</b><br><br>name=%{location}<br>number_of_airports=%{z}<extra></extra>",
         "hovertext": [
          3,
          116,
          74,
          4,
          2,
          14,
          16,
          111,
          39,
          883,
          4,
          146,
          2054,
          3,
          39,
          18,
          2,
          38,
          177,
          51,
          144,
          11,
          7,
          10,
          1,
          3,
          15,
          199,
          4,
          5970,
          74,
          10,
          132,
          58,
          34,
          2854,
          1,
          292,
          47,
          56,
          87,
          30,
          10,
          480,
          39,
          469,
          709,
          134,
          141,
          10,
          1,
          1,
          55,
          288,
          974,
          11,
          128,
          2,
          39,
          71,
          123,
          40,
          78,
          20,
          9,
          468,
          61,
          117,
          34,
          39,
          6,
          16,
          959,
          39,
          1332,
          3,
          31,
          16,
          3,
          17,
          1,
          84,
          1,
          16,
          6,
          7,
          115,
          1,
          58,
          4,
          7,
          48,
          87,
          159,
          61,
          20,
          122,
          491,
          114,
          46,
          6,
          540,
          1,
          80,
          153,
          86,
          825,
          1,
          26,
          17,
          2580,
          376,
          54,
          17,
          22,
          4,
          2,
          94,
          1378,
          21,
          10,
          150,
          20,
          11,
          2,
          2,
          37,
          18,
          33,
          65,
          9,
          77,
          66,
          35,
          3,
          11,
          7,
          2,
          84,
          35,
          15,
          32,
          80,
          30,
          4,
          11,
          4,
          27,
          2,
          7,
          4,
          27,
          29,
          1817,
          111,
          96,
          257,
          22,
          23,
          1,
          63,
          33,
          122,
          249,
          50,
          1,
          1,
          212,
          32,
          79,
          175,
          55,
          599,
          535,
          162,
          324,
          2,
          64,
          7,
          221,
          3,
          69,
          16,
          2,
          64,
          44,
          1352,
          9,
          91,
          38,
          21,
          38,
          240,
          10,
          4,
          42,
          113,
          12,
          2,
          20,
          38,
          51,
          65,
          4,
          27,
          1,
          31,
          16,
          8,
          37,
          7,
          7,
          85,
          18,
          13,
          46,
          16,
          6,
          203,
          3,
          3,
          79,
          209,
          230,
          37,
          8,
          27261,
          54,
          177,
          1,
          6,
          599,
          5,
          9,
          55,
          36,
          2,
          5,
          7,
          29,
          1,
          580,
          103,
          144,
          1
         ],
         "locationmode": "country names",
         "locations": [
          "Andorra",
          "United Arab Emirates",
          "Afghanistan",
          "Antigua and Barbuda",
          "Anguilla",
          "Albania",
          "Armenia",
          "Angola",
          "Antarctica",
          "Argentina",
          "American Samoa",
          "Austria",
          "Australia",
          "Aruba",
          "Azerbaijan",
          "Bosnia and Herzegovina",
          "Barbados",
          "Bangladesh",
          "Belgium",
          "Burkina Faso",
          "Bulgaria",
          "Bahrain",
          "Burundi",
          "Benin",
          "Saint Barthélemy",
          "Bermuda",
          "Brunei",
          "Bolivia",
          "Caribbean Netherlands",
          "Brazil",
          "Bahamas",
          "Bhutan",
          "Botswana",
          "Belarus",
          "Belize",
          "Canada",
          "Cocos (Keeling) Islands",
          "Congo (Kinshasa)",
          "Central African Republic",
          "Congo (Brazzaville)",
          "Switzerland",
          "Côte d'Ivoire",
          "Cook Islands",
          "Chile",
          "Cameroon",
          "China",
          "Colombia",
          "Costa Rica",
          "Cuba",
          "Cape Verde",
          "Curaçao",
          "Christmas Island",
          "Cyprus",
          "Czech Republic",
          "Germany",
          "Djibouti",
          "Denmark",
          "Dominica",
          "Dominican Republic",
          "Algeria",
          "Ecuador",
          "Estonia",
          "Egypt",
          "Western Sahara",
          "Eritrea",
          "Spain",
          "Ethiopia",
          "Finland",
          "Fiji",
          "Falkland Islands",
          "Micronesia",
          "Faroe Islands",
          "France",
          "Gabon",
          "United Kingdom",
          "Grenada",
          "Georgia",
          "French Guiana",
          "Guernsey",
          "Ghana",
          "Gibraltar",
          "Greenland",
          "Gambia",
          "Guinea",
          "Guadeloupe",
          "Equatorial Guinea",
          "Greece",
          "South Georgia and the South Sandwich Islands",
          "Guatemala",
          "Guam",
          "Guinea-Bissau",
          "Guyana",
          "Hong Kong",
          "Honduras",
          "Croatia",
          "Haiti",
          "Hungary",
          "Indonesia",
          "Ireland",
          "Israel",
          "Isle of Man",
          "India",
          "British Indian Ocean Territory",
          "Iraq",
          "Iran",
          "Iceland",
          "Italy",
          "Jersey",
          "Jamaica",
          "Jordan",
          "Japan",
          "Kenya",
          "Kyrgyzstan",
          "Cambodia",
          "Kiribati",
          "Comoros",
          "Saint Kitts and Nevis",
          "North Korea",
          "South Korea",
          "Kuwait",
          "Cayman Islands",
          "Kazakhstan",
          "Laos",
          "Lebanon",
          "Saint Lucia",
          "Liechtenstein",
          "Sri Lanka",
          "Liberia",
          "Lesotho",
          "Lithuania",
          "Luxembourg",
          "Latvia",
          "Libya",
          "Morocco",
          "Monaco",
          "Moldova",
          "Montenegro",
          "Saint Martin",
          "Madagascar",
          "Marshall Islands",
          "North Macedonia",
          "Mali",
          "Burma",
          "Mongolia",
          "Macau",
          "Northern Mariana Islands",
          "Martinique",
          "Mauritania",
          "Montserrat",
          "Malta",
          "Mauritius",
          "Maldives",
          "Malawi",
          "Mexico",
          "Malaysia",
          "Mozambique",
          "Namibia",
          "New Caledonia",
          "Niger",
          "Norfolk Island",
          "Nigeria",
          "Nicaragua",
          "Netherlands",
          "Norway",
          "Nepal",
          "Nauru",
          "Niue",
          "New Zealand",
          "Oman",
          "Panama",
          "Perú",
          "French Polynesia",
          "Papua New Guinea",
          "Philippines",
          "Pakistan",
          "Poland",
          "Saint Pierre and Miquelon",
          "Puerto Rico",
          "Palestinian Territory",
          "Portugal",
          "Palau",
          "Paraguay",
          "Qatar",
          "Réunion",
          "Romania",
          "Serbia",
          "Russia",
          "Rwanda",
          "Saudi Arabia",
          "Solomon Islands",
          "Seychelles",
          "Sudan",
          "Sweden",
          "Singapore",
          "Saint Helena",
          "Slovenia",
          "Slovakia",
          "Sierra Leone",
          "San Marino",
          "Senegal",
          "Somalia",
          "Suriname",
          "South Sudan",
          "São Tomé and Principe",
          "El Salvador",
          "Sint Maarten",
          "Syria",
          "Eswatini",
          "Turks and Caicos Islands",
          "Chad",
          "French Southern Territories",
          "Togo",
          "Thailand",
          "Tajikistan",
          "Timor-Leste",
          "Turkmenistan",
          "Tunisia",
          "Tonga",
          "Turkey",
          "Trinidad and Tobago",
          "Tuvalu",
          "Taiwan",
          "Tanzania",
          "Ukraine",
          "Uganda",
          "United States Minor Outlying Islands",
          "United States",
          "Uruguay",
          "Uzbekistan",
          "Vatican City",
          "Saint Vincent and the Grenadines",
          "Venezuela",
          "British Virgin Islands",
          "U.S. Virgin Islands",
          "Vietnam",
          "Vanuatu",
          "Wallis and Futuna",
          "Samoa",
          "Kosovo",
          "Yemen",
          "Mayotte",
          "South Africa",
          "Zambia",
          "Zimbabwe",
          "Unknown or unassigned country"
         ],
         "name": "",
         "type": "choropleth",
         "z": [
          3,
          116,
          74,
          4,
          2,
          14,
          16,
          111,
          39,
          883,
          4,
          146,
          2054,
          3,
          39,
          18,
          2,
          38,
          177,
          51,
          144,
          11,
          7,
          10,
          1,
          3,
          15,
          199,
          4,
          5970,
          74,
          10,
          132,
          58,
          34,
          2854,
          1,
          292,
          47,
          56,
          87,
          30,
          10,
          480,
          39,
          469,
          709,
          134,
          141,
          10,
          1,
          1,
          55,
          288,
          974,
          11,
          128,
          2,
          39,
          71,
          123,
          40,
          78,
          20,
          9,
          468,
          61,
          117,
          34,
          39,
          6,
          16,
          959,
          39,
          1332,
          3,
          31,
          16,
          3,
          17,
          1,
          84,
          1,
          16,
          6,
          7,
          115,
          1,
          58,
          4,
          7,
          48,
          87,
          159,
          61,
          20,
          122,
          491,
          114,
          46,
          6,
          540,
          1,
          80,
          153,
          86,
          825,
          1,
          26,
          17,
          2580,
          376,
          54,
          17,
          22,
          4,
          2,
          94,
          1378,
          21,
          10,
          150,
          20,
          11,
          2,
          2,
          37,
          18,
          33,
          65,
          9,
          77,
          66,
          35,
          3,
          11,
          7,
          2,
          84,
          35,
          15,
          32,
          80,
          30,
          4,
          11,
          4,
          27,
          2,
          7,
          4,
          27,
          29,
          1817,
          111,
          96,
          257,
          22,
          23,
          1,
          63,
          33,
          122,
          249,
          50,
          1,
          1,
          212,
          32,
          79,
          175,
          55,
          599,
          535,
          162,
          324,
          2,
          64,
          7,
          221,
          3,
          69,
          16,
          2,
          64,
          44,
          1352,
          9,
          91,
          38,
          21,
          38,
          240,
          10,
          4,
          42,
          113,
          12,
          2,
          20,
          38,
          51,
          65,
          4,
          27,
          1,
          31,
          16,
          8,
          37,
          7,
          7,
          85,
          18,
          13,
          46,
          16,
          6,
          203,
          3,
          3,
          79,
          209,
          230,
          37,
          8,
          27261,
          54,
          177,
          1,
          6,
          599,
          5,
          9,
          55,
          36,
          2,
          5,
          7,
          29,
          1,
          580,
          103,
          144,
          1
         ]
        }
       ],
       "layout": {
        "coloraxis": {
         "colorbar": {
          "title": {
           "text": "number_of_airports"
          }
         },
         "colorscale": [
          [
           0,
           "rgb(84,48,5)"
          ],
          [
           0.1,
           "rgb(140,81,10)"
          ],
          [
           0.2,
           "rgb(191,129,45)"
          ],
          [
           0.3,
           "rgb(223,194,125)"
          ],
          [
           0.4,
           "rgb(246,232,195)"
          ],
          [
           0.5,
           "rgb(245,245,245)"
          ],
          [
           0.6,
           "rgb(199,234,229)"
          ],
          [
           0.7,
           "rgb(128,205,193)"
          ],
          [
           0.8,
           "rgb(53,151,143)"
          ],
          [
           0.9,
           "rgb(1,102,94)"
          ],
          [
           1,
           "rgb(0,60,48)"
          ]
         ]
        },
        "geo": {
         "center": {},
         "domain": {
          "x": [
           0,
           1
          ],
          "y": [
           0,
           1
          ]
         }
        },
        "legend": {
         "tracegroupgap": 0
        },
        "template": {
         "data": {
          "bar": [
           {
            "error_x": {
             "color": "#2a3f5f"
            },
            "error_y": {
             "color": "#2a3f5f"
            },
            "marker": {
             "line": {
              "color": "#E5ECF6",
              "width": 0.5
             },
             "pattern": {
              "fillmode": "overlay",
              "size": 10,
              "solidity": 0.2
             }
            },
            "type": "bar"
           }
          ],
          "barpolar": [
           {
            "marker": {
             "line": {
              "color": "#E5ECF6",
              "width": 0.5
             },
             "pattern": {
              "fillmode": "overlay",
              "size": 10,
              "solidity": 0.2
             }
            },
            "type": "barpolar"
           }
          ],
          "carpet": [
           {
            "aaxis": {
             "endlinecolor": "#2a3f5f",
             "gridcolor": "white",
             "linecolor": "white",
             "minorgridcolor": "white",
             "startlinecolor": "#2a3f5f"
            },
            "baxis": {
             "endlinecolor": "#2a3f5f",
             "gridcolor": "white",
             "linecolor": "white",
             "minorgridcolor": "white",
             "startlinecolor": "#2a3f5f"
            },
            "type": "carpet"
           }
          ],
          "choropleth": [
           {
            "colorbar": {
             "outlinewidth": 0,
             "ticks": ""
            },
            "type": "choropleth"
           }
          ],
          "contour": [
           {
            "colorbar": {
             "outlinewidth": 0,
             "ticks": ""
            },
            "colorscale": [
             [
              0,
              "#0d0887"
             ],
             [
              0.1111111111111111,
              "#46039f"
             ],
             [
              0.2222222222222222,
              "#7201a8"
             ],
             [
              0.3333333333333333,
              "#9c179e"
             ],
             [
              0.4444444444444444,
              "#bd3786"
             ],
             [
              0.5555555555555556,
              "#d8576b"
             ],
             [
              0.6666666666666666,
              "#ed7953"
             ],
             [
              0.7777777777777778,
              "#fb9f3a"
             ],
             [
              0.8888888888888888,
              "#fdca26"
             ],
             [
              1,
              "#f0f921"
             ]
            ],
            "type": "contour"
           }
          ],
          "contourcarpet": [
           {
            "colorbar": {
             "outlinewidth": 0,
             "ticks": ""
            },
            "type": "contourcarpet"
           }
          ],
          "heatmap": [
           {
            "colorbar": {
             "outlinewidth": 0,
             "ticks": ""
            },
            "colorscale": [
             [
              0,
              "#0d0887"
             ],
             [
              0.1111111111111111,
              "#46039f"
             ],
             [
              0.2222222222222222,
              "#7201a8"
             ],
             [
              0.3333333333333333,
              "#9c179e"
             ],
             [
              0.4444444444444444,
              "#bd3786"
             ],
             [
              0.5555555555555556,
              "#d8576b"
             ],
             [
              0.6666666666666666,
              "#ed7953"
             ],
             [
              0.7777777777777778,
              "#fb9f3a"
             ],
             [
              0.8888888888888888,
              "#fdca26"
             ],
             [
              1,
              "#f0f921"
             ]
            ],
            "type": "heatmap"
           }
          ],
          "heatmapgl": [
           {
            "colorbar": {
             "outlinewidth": 0,
             "ticks": ""
            },
            "colorscale": [
             [
              0,
              "#0d0887"
             ],
             [
              0.1111111111111111,
              "#46039f"
             ],
             [
              0.2222222222222222,
              "#7201a8"
             ],
             [
              0.3333333333333333,
              "#9c179e"
             ],
             [
              0.4444444444444444,
              "#bd3786"
             ],
             [
              0.5555555555555556,
              "#d8576b"
             ],
             [
              0.6666666666666666,
              "#ed7953"
             ],
             [
              0.7777777777777778,
              "#fb9f3a"
             ],
             [
              0.8888888888888888,
              "#fdca26"
             ],
             [
              1,
              "#f0f921"
             ]
            ],
            "type": "heatmapgl"
           }
          ],
          "histogram": [
           {
            "marker": {
             "pattern": {
              "fillmode": "overlay",
              "size": 10,
              "solidity": 0.2
             }
            },
            "type": "histogram"
           }
          ],
          "histogram2d": [
           {
            "colorbar": {
             "outlinewidth": 0,
             "ticks": ""
            },
            "colorscale": [
             [
              0,
              "#0d0887"
             ],
             [
              0.1111111111111111,
              "#46039f"
             ],
             [
              0.2222222222222222,
              "#7201a8"
             ],
             [
              0.3333333333333333,
              "#9c179e"
             ],
             [
              0.4444444444444444,
              "#bd3786"
             ],
             [
              0.5555555555555556,
              "#d8576b"
             ],
             [
              0.6666666666666666,
              "#ed7953"
             ],
             [
              0.7777777777777778,
              "#fb9f3a"
             ],
             [
              0.8888888888888888,
              "#fdca26"
             ],
             [
              1,
              "#f0f921"
             ]
            ],
            "type": "histogram2d"
           }
          ],
          "histogram2dcontour": [
           {
            "colorbar": {
             "outlinewidth": 0,
             "ticks": ""
            },
            "colorscale": [
             [
              0,
              "#0d0887"
             ],
             [
              0.1111111111111111,
              "#46039f"
             ],
             [
              0.2222222222222222,
              "#7201a8"
             ],
             [
              0.3333333333333333,
              "#9c179e"
             ],
             [
              0.4444444444444444,
              "#bd3786"
             ],
             [
              0.5555555555555556,
              "#d8576b"
             ],
             [
              0.6666666666666666,
              "#ed7953"
             ],
             [
              0.7777777777777778,
              "#fb9f3a"
             ],
             [
              0.8888888888888888,
              "#fdca26"
             ],
             [
              1,
              "#f0f921"
             ]
            ],
            "type": "histogram2dcontour"
           }
          ],
          "mesh3d": [
           {
            "colorbar": {
             "outlinewidth": 0,
             "ticks": ""
            },
            "type": "mesh3d"
           }
          ],
          "parcoords": [
           {
            "line": {
             "colorbar": {
              "outlinewidth": 0,
              "ticks": ""
             }
            },
            "type": "parcoords"
           }
          ],
          "pie": [
           {
            "automargin": true,
            "type": "pie"
           }
          ],
          "scatter": [
           {
            "marker": {
             "colorbar": {
              "outlinewidth": 0,
              "ticks": ""
             }
            },
            "type": "scatter"
           }
          ],
          "scatter3d": [
           {
            "line": {
             "colorbar": {
              "outlinewidth": 0,
              "ticks": ""
             }
            },
            "marker": {
             "colorbar": {
              "outlinewidth": 0,
              "ticks": ""
             }
            },
            "type": "scatter3d"
           }
          ],
          "scattercarpet": [
           {
            "marker": {
             "colorbar": {
              "outlinewidth": 0,
              "ticks": ""
             }
            },
            "type": "scattercarpet"
           }
          ],
          "scattergeo": [
           {
            "marker": {
             "colorbar": {
              "outlinewidth": 0,
              "ticks": ""
             }
            },
            "type": "scattergeo"
           }
          ],
          "scattergl": [
           {
            "marker": {
             "colorbar": {
              "outlinewidth": 0,
              "ticks": ""
             }
            },
            "type": "scattergl"
           }
          ],
          "scattermapbox": [
           {
            "marker": {
             "colorbar": {
              "outlinewidth": 0,
              "ticks": ""
             }
            },
            "type": "scattermapbox"
           }
          ],
          "scatterpolar": [
           {
            "marker": {
             "colorbar": {
              "outlinewidth": 0,
              "ticks": ""
             }
            },
            "type": "scatterpolar"
           }
          ],
          "scatterpolargl": [
           {
            "marker": {
             "colorbar": {
              "outlinewidth": 0,
              "ticks": ""
             }
            },
            "type": "scatterpolargl"
           }
          ],
          "scatterternary": [
           {
            "marker": {
             "colorbar": {
              "outlinewidth": 0,
              "ticks": ""
             }
            },
            "type": "scatterternary"
           }
          ],
          "surface": [
           {
            "colorbar": {
             "outlinewidth": 0,
             "ticks": ""
            },
            "colorscale": [
             [
              0,
              "#0d0887"
             ],
             [
              0.1111111111111111,
              "#46039f"
             ],
             [
              0.2222222222222222,
              "#7201a8"
             ],
             [
              0.3333333333333333,
              "#9c179e"
             ],
             [
              0.4444444444444444,
              "#bd3786"
             ],
             [
              0.5555555555555556,
              "#d8576b"
             ],
             [
              0.6666666666666666,
              "#ed7953"
             ],
             [
              0.7777777777777778,
              "#fb9f3a"
             ],
             [
              0.8888888888888888,
              "#fdca26"
             ],
             [
              1,
              "#f0f921"
             ]
            ],
            "type": "surface"
           }
          ],
          "table": [
           {
            "cells": {
             "fill": {
              "color": "#EBF0F8"
             },
             "line": {
              "color": "white"
             }
            },
            "header": {
             "fill": {
              "color": "#C8D4E3"
             },
             "line": {
              "color": "white"
             }
            },
            "type": "table"
           }
          ]
         },
         "layout": {
          "annotationdefaults": {
           "arrowcolor": "#2a3f5f",
           "arrowhead": 0,
           "arrowwidth": 1
          },
          "autotypenumbers": "strict",
          "coloraxis": {
           "colorbar": {
            "outlinewidth": 0,
            "ticks": ""
           }
          },
          "colorscale": {
           "diverging": [
            [
             0,
             "#8e0152"
            ],
            [
             0.1,
             "#c51b7d"
            ],
            [
             0.2,
             "#de77ae"
            ],
            [
             0.3,
             "#f1b6da"
            ],
            [
             0.4,
             "#fde0ef"
            ],
            [
             0.5,
             "#f7f7f7"
            ],
            [
             0.6,
             "#e6f5d0"
            ],
            [
             0.7,
             "#b8e186"
            ],
            [
             0.8,
             "#7fbc41"
            ],
            [
             0.9,
             "#4d9221"
            ],
            [
             1,
             "#276419"
            ]
           ],
           "sequential": [
            [
             0,
             "#0d0887"
            ],
            [
             0.1111111111111111,
             "#46039f"
            ],
            [
             0.2222222222222222,
             "#7201a8"
            ],
            [
             0.3333333333333333,
             "#9c179e"
            ],
            [
             0.4444444444444444,
             "#bd3786"
            ],
            [
             0.5555555555555556,
             "#d8576b"
            ],
            [
             0.6666666666666666,
             "#ed7953"
            ],
            [
             0.7777777777777778,
             "#fb9f3a"
            ],
            [
             0.8888888888888888,
             "#fdca26"
            ],
            [
             1,
             "#f0f921"
            ]
           ],
           "sequentialminus": [
            [
             0,
             "#0d0887"
            ],
            [
             0.1111111111111111,
             "#46039f"
            ],
            [
             0.2222222222222222,
             "#7201a8"
            ],
            [
             0.3333333333333333,
             "#9c179e"
            ],
            [
             0.4444444444444444,
             "#bd3786"
            ],
            [
             0.5555555555555556,
             "#d8576b"
            ],
            [
             0.6666666666666666,
             "#ed7953"
            ],
            [
             0.7777777777777778,
             "#fb9f3a"
            ],
            [
             0.8888888888888888,
             "#fdca26"
            ],
            [
             1,
             "#f0f921"
            ]
           ]
          },
          "colorway": [
           "#636efa",
           "#EF553B",
           "#00cc96",
           "#ab63fa",
           "#FFA15A",
           "#19d3f3",
           "#FF6692",
           "#B6E880",
           "#FF97FF",
           "#FECB52"
          ],
          "font": {
           "color": "#2a3f5f"
          },
          "geo": {
           "bgcolor": "white",
           "lakecolor": "white",
           "landcolor": "#E5ECF6",
           "showlakes": true,
           "showland": true,
           "subunitcolor": "white"
          },
          "hoverlabel": {
           "align": "left"
          },
          "hovermode": "closest",
          "mapbox": {
           "style": "light"
          },
          "paper_bgcolor": "white",
          "plot_bgcolor": "#E5ECF6",
          "polar": {
           "angularaxis": {
            "gridcolor": "white",
            "linecolor": "white",
            "ticks": ""
           },
           "bgcolor": "#E5ECF6",
           "radialaxis": {
            "gridcolor": "white",
            "linecolor": "white",
            "ticks": ""
           }
          },
          "scene": {
           "xaxis": {
            "backgroundcolor": "#E5ECF6",
            "gridcolor": "white",
            "gridwidth": 2,
            "linecolor": "white",
            "showbackground": true,
            "ticks": "",
            "zerolinecolor": "white"
           },
           "yaxis": {
            "backgroundcolor": "#E5ECF6",
            "gridcolor": "white",
            "gridwidth": 2,
            "linecolor": "white",
            "showbackground": true,
            "ticks": "",
            "zerolinecolor": "white"
           },
           "zaxis": {
            "backgroundcolor": "#E5ECF6",
            "gridcolor": "white",
            "gridwidth": 2,
            "linecolor": "white",
            "showbackground": true,
            "ticks": "",
            "zerolinecolor": "white"
           }
          },
          "shapedefaults": {
           "line": {
            "color": "#2a3f5f"
           }
          },
          "ternary": {
           "aaxis": {
            "gridcolor": "white",
            "linecolor": "white",
            "ticks": ""
           },
           "baxis": {
            "gridcolor": "white",
            "linecolor": "white",
            "ticks": ""
           },
           "bgcolor": "#E5ECF6",
           "caxis": {
            "gridcolor": "white",
            "linecolor": "white",
            "ticks": ""
           }
          },
          "title": {
           "x": 0.05
          },
          "xaxis": {
           "automargin": true,
           "gridcolor": "white",
           "linecolor": "white",
           "ticks": "",
           "title": {
            "standoff": 15
           },
           "zerolinecolor": "white",
           "zerolinewidth": 2
          },
          "yaxis": {
           "automargin": true,
           "gridcolor": "white",
           "linecolor": "white",
           "ticks": "",
           "title": {
            "standoff": 15
           },
           "zerolinecolor": "white",
           "zerolinewidth": 2
          }
         }
        },
        "title": {
         "text": "number of airports per country"
        }
       }
      }
     },
     "metadata": {},
     "output_type": "display_data"
    }
   ],
   "source": [
    "\n",
    "px.choropleth(countries, locations=\"name\", \n",
    "                    locationmode='country names', color=\"number_of_airports\", \n",
    "                    hover_name=\"number_of_airports\", \n",
    "                    color_continuous_scale=px.colors.diverging.BrBG,\n",
    "                    title='number of airports per country'\n",
    "                    \n",
    "                    )"
   ]
  },
  {
   "cell_type": "code",
   "execution_count": null,
   "metadata": {},
   "outputs": [],
   "source": [
    "\n",
    "    \n"
   ]
  }
 ],
 "metadata": {
  "interpreter": {
   "hash": "63fd5069d213b44bf678585dea6b12cceca9941eaf7f819626cde1f2670de90d"
  },
  "kernelspec": {
   "display_name": "Python 3.9.6 64-bit",
   "name": "python3"
  },
  "language_info": {
   "codemirror_mode": {
    "name": "ipython",
    "version": 3
   },
   "file_extension": ".py",
   "mimetype": "text/x-python",
   "name": "python",
   "nbconvert_exporter": "python",
   "pygments_lexer": "ipython3",
   "version": "3.9.6"
  },
  "orig_nbformat": 4
 },
 "nbformat": 4,
 "nbformat_minor": 2
}
